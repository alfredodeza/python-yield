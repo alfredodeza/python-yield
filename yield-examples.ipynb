{
 "cells": [
  {
   "cell_type": "code",
   "execution_count": null,
   "metadata": {},
   "outputs": [],
   "source": [
    "items = [1,2,3,4]\n",
    "for item in items:\n",
    "    print(item)"
   ]
  },
  {
   "cell_type": "code",
   "execution_count": 13,
   "metadata": {},
   "outputs": [
    {
     "data": {
      "text/plain": [
       "[0, 1, 2, 3]"
      ]
     },
     "execution_count": 13,
     "metadata": {},
     "output_type": "execute_result"
    }
   ],
   "source": [
    "# this is eager!\n",
    "def items():\n",
    "    numbers = []\n",
    "    for i in range(4):\n",
    "        numbers.append(i)\n",
    "    return numbers\n",
    "\n",
    "items()\n"
   ]
  },
  {
   "cell_type": "code",
   "execution_count": 8,
   "metadata": {},
   "outputs": [
    {
     "data": {
      "text/plain": [
       "<generator object items at 0x1092aa8f0>"
      ]
     },
     "execution_count": 8,
     "metadata": {},
     "output_type": "execute_result"
    }
   ],
   "source": [
    "# this is lazy!\n",
    "def items():\n",
    "    for item in [1,2,3,4]:\n",
    "        yield item\n",
    "items()"
   ]
  },
  {
   "cell_type": "code",
   "execution_count": 12,
   "metadata": {},
   "outputs": [
    {
     "name": "stdout",
     "output_type": "stream",
     "text": [
      "e111dcee-1ab6-4ad6-a702-d732d44dc0ff\n",
      "ab1bc14c-caa1-41cd-bc9f-d02956b4a743\n",
      "c7165214-8c4f-442b-8bfa-ba8911b17250\n"
     ]
    }
   ],
   "source": [
    "from uuid import uuid4\n",
    "\n",
    "def generate_uuid():\n",
    "    while True:\n",
    "        yield str(uuid4())\n",
    "\n",
    "# generate on demand for an infinite number\n",
    "uuids = generate_uuid()\n",
    "for i in range(3):\n",
    "    print(next(uuids))"
   ]
  }
 ],
 "metadata": {
  "interpreter": {
   "hash": "577b08f524cf01a99e9a6b655c0c48792621c01acb5f33cb5647fbc95a4e54a0"
  },
  "kernelspec": {
   "display_name": "Python 3.10.1 ('tmp')",
   "language": "python",
   "name": "python3"
  },
  "language_info": {
   "codemirror_mode": {
    "name": "ipython",
    "version": 3
   },
   "file_extension": ".py",
   "mimetype": "text/x-python",
   "name": "python",
   "nbconvert_exporter": "python",
   "pygments_lexer": "ipython3",
   "version": "3.10.1"
  },
  "orig_nbformat": 4
 },
 "nbformat": 4,
 "nbformat_minor": 2
}
